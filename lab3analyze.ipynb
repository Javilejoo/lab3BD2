{
 "cells": [
  {
   "cell_type": "code",
   "execution_count": 1,
   "id": "abacd0f9-13e0-452f-9dc1-4ca64bd7b538",
   "metadata": {},
   "outputs": [],
   "source": [
    "import pandas as pd\n",
    "import matplotlib.pyplot as plt"
   ]
  },
  {
   "cell_type": "code",
   "execution_count": 2,
   "id": "ecdd5759-5a5b-4a6e-bef2-83d90e884cc5",
   "metadata": {},
   "outputs": [],
   "source": [
    "df = pd.read_csv(\"nuevoGames2.csv\", sep = \",\")"
   ]
  },
  {
   "cell_type": "markdown",
   "id": "d8dc6486-17bf-4879-bb18-6211af361e71",
   "metadata": {},
   "source": [
    "<h1>Mostrar primeras filas del df</h1>"
   ]
  },
  {
   "cell_type": "code",
   "execution_count": 3,
   "id": "24acac6b-41d2-42a8-ae4d-5b6060510b49",
   "metadata": {},
   "outputs": [
    {
     "name": "stdout",
     "output_type": "stream",
     "text": [
      "   Unnamed: 0    id                             slug  \\\n",
      "0           0  3498               grand-theft-auto-v   \n",
      "1           1  3328          the-witcher-3-wild-hunt   \n",
      "2           2  4200                         portal-2   \n",
      "3           3  4291  counter-strike-global-offensive   \n",
      "4           4  5286                      tomb-raider   \n",
      "\n",
      "                               name    released    tba  \\\n",
      "0                Grand Theft Auto V  2013-09-17  False   \n",
      "1          The Witcher 3: Wild Hunt  2015-05-18  False   \n",
      "2                          Portal 2  2011-04-18  False   \n",
      "3  Counter-Strike: Global Offensive  2012-08-21  False   \n",
      "4                Tomb Raider (2013)  2013-03-05  False   \n",
      "\n",
      "                                    background_image  rating  rating_top  \\\n",
      "0  https://media.rawg.io/media/games/20a/20aa03a1...    4.47           5   \n",
      "1  https://media.rawg.io/media/games/618/618c2031...    4.65           5   \n",
      "2  https://media.rawg.io/media/games/2ba/2bac0e87...    4.61           5   \n",
      "3  https://media.rawg.io/media/games/736/73619bd3...    3.57           4   \n",
      "4  https://media.rawg.io/media/games/021/021c4e21...    4.05           4   \n",
      "\n",
      "                                             ratings  ...  user_game  \\\n",
      "0  [{'id': 5, 'title': 'exceptional', 'count': 40...  ...        NaN   \n",
      "1  [{'id': 5, 'title': 'exceptional', 'count': 50...  ...        NaN   \n",
      "2  [{'id': 5, 'title': 'exceptional', 'count': 39...  ...        NaN   \n",
      "3  [{'id': 4, 'title': 'recommended', 'count': 16...  ...        NaN   \n",
      "4  [{'id': 4, 'title': 'recommended', 'count': 23...  ...        NaN   \n",
      "\n",
      "   reviews_count                                          platforms  \\\n",
      "0           6829  [{'platform': {'id': 4, 'name': 'PC', 'slug': ...   \n",
      "1           6545  [{'platform': {'id': 186, 'name': 'Xbox Series...   \n",
      "2           5633  [{'platform': {'id': 16, 'name': 'PlayStation ...   \n",
      "3           3464  [{'platform': {'id': 4, 'name': 'PC', 'slug': ...   \n",
      "4           3880  [{'platform': {'id': 18, 'name': 'PlayStation ...   \n",
      "\n",
      "                                    parent_platforms  \\\n",
      "0  [{'platform': {'id': 1, 'name': 'PC', 'slug': ...   \n",
      "1  [{'platform': {'id': 1, 'name': 'PC', 'slug': ...   \n",
      "2  [{'platform': {'id': 1, 'name': 'PC', 'slug': ...   \n",
      "3  [{'platform': {'id': 1, 'name': 'PC', 'slug': ...   \n",
      "4  [{'platform': {'id': 1, 'name': 'PC', 'slug': ...   \n",
      "\n",
      "                                              genres  \\\n",
      "0  [{'id': 4, 'name': 'Action', 'slug': 'action',...   \n",
      "1  [{'id': 4, 'name': 'Action', 'slug': 'action',...   \n",
      "2  [{'id': 2, 'name': 'Shooter', 'slug': 'shooter...   \n",
      "3  [{'id': 2, 'name': 'Shooter', 'slug': 'shooter...   \n",
      "4  [{'id': 4, 'name': 'Action', 'slug': 'action',...   \n",
      "\n",
      "                                              stores  \\\n",
      "0  [{'id': 290375, 'store': {'id': 3, 'name': 'Pl...   \n",
      "1  [{'id': 354780, 'store': {'id': 5, 'name': 'GO...   \n",
      "2  [{'id': 465889, 'store': {'id': 2, 'name': 'Xb...   \n",
      "3  [{'id': 4619, 'store': {'id': 3, 'name': 'Play...   \n",
      "4  [{'id': 33824, 'store': {'id': 7, 'name': 'Xbo...   \n",
      "\n",
      "                                                tags  \\\n",
      "0  [{'id': 31, 'name': 'Singleplayer', 'slug': 's...   \n",
      "1  [{'id': 31, 'name': 'Singleplayer', 'slug': 's...   \n",
      "2  [{'id': 31, 'name': 'Singleplayer', 'slug': 's...   \n",
      "3  [{'id': 40847, 'name': 'Steam Achievements', '...   \n",
      "4  [{'id': 31, 'name': 'Singleplayer', 'slug': 's...   \n",
      "\n",
      "                                         esrb_rating  \\\n",
      "0      {'id': 4, 'name': 'Mature', 'slug': 'mature'}   \n",
      "1      {'id': 4, 'name': 'Mature', 'slug': 'mature'}   \n",
      "2  {'id': 2, 'name': 'Everyone 10+', 'slug': 'eve...   \n",
      "3      {'id': 4, 'name': 'Mature', 'slug': 'mature'}   \n",
      "4      {'id': 4, 'name': 'Mature', 'slug': 'mature'}   \n",
      "\n",
      "                                   short_screenshots    genre  \n",
      "0  [{'id': -1, 'image': 'https://media.rawg.io/me...   Action  \n",
      "1  [{'id': -1, 'image': 'https://media.rawg.io/me...   Action  \n",
      "2  [{'id': -1, 'image': 'https://media.rawg.io/me...  Shooter  \n",
      "3  [{'id': -1, 'image': 'https://media.rawg.io/me...  Shooter  \n",
      "4  [{'id': -1, 'image': 'https://media.rawg.io/me...   Action  \n",
      "\n",
      "[5 rows x 28 columns]\n"
     ]
    }
   ],
   "source": [
    "print(df.head())"
   ]
  },
  {
   "cell_type": "markdown",
   "id": "3ff1ed37-c426-4311-a25e-807b3a723fba",
   "metadata": {},
   "source": [
    "<h1>Obtener información sobre las columnas y los tipos de datos</h1>"
   ]
  },
  {
   "cell_type": "code",
   "execution_count": 4,
   "id": "c946b6c3-7fb4-49a2-89da-7209e986d66d",
   "metadata": {},
   "outputs": [
    {
     "name": "stdout",
     "output_type": "stream",
     "text": [
      "\n",
      "Información del DataFrame:\n",
      "<class 'pandas.core.frame.DataFrame'>\n",
      "RangeIndex: 11701 entries, 0 to 11700\n",
      "Data columns (total 28 columns):\n",
      " #   Column              Non-Null Count  Dtype  \n",
      "---  ------              --------------  -----  \n",
      " 0   Unnamed: 0          11701 non-null  int64  \n",
      " 1   id                  11701 non-null  int64  \n",
      " 2   slug                11701 non-null  object \n",
      " 3   name                11701 non-null  object \n",
      " 4   released            11532 non-null  object \n",
      " 5   tba                 11701 non-null  bool   \n",
      " 6   background_image    11678 non-null  object \n",
      " 7   rating              11701 non-null  float64\n",
      " 8   rating_top          11701 non-null  int64  \n",
      " 9   ratings             11701 non-null  object \n",
      " 10  ratings_count       11701 non-null  int64  \n",
      " 11  reviews_text_count  11701 non-null  int64  \n",
      " 12  added               11701 non-null  int64  \n",
      " 13  added_by_status     11701 non-null  object \n",
      " 14  metacritic          4786 non-null   float64\n",
      " 15  playtime            11701 non-null  int64  \n",
      " 16  suggestions_count   11701 non-null  int64  \n",
      " 17  updated             11701 non-null  object \n",
      " 18  user_game           0 non-null      float64\n",
      " 19  reviews_count       11701 non-null  int64  \n",
      " 20  platforms           11701 non-null  object \n",
      " 21  parent_platforms    11701 non-null  object \n",
      " 22  genres              11701 non-null  object \n",
      " 23  stores              11701 non-null  object \n",
      " 24  tags                11701 non-null  object \n",
      " 25  esrb_rating         5078 non-null   object \n",
      " 26  short_screenshots   11701 non-null  object \n",
      " 27  genre               11701 non-null  object \n",
      "dtypes: bool(1), float64(3), int64(9), object(15)\n",
      "memory usage: 2.4+ MB\n",
      "None\n"
     ]
    }
   ],
   "source": [
    "print(\"\\nInformación del DataFrame:\")\n",
    "print(df.info())"
   ]
  },
  {
   "cell_type": "markdown",
   "id": "0b5d6a9b-f26f-4a2c-959e-0bd3855afe2f",
   "metadata": {},
   "source": [
    "<h1> Resumen estadístico de las columnas numéricas</h1>"
   ]
  },
  {
   "cell_type": "code",
   "execution_count": 5,
   "id": "efd0408d-00e1-442d-895a-3faa30752f51",
   "metadata": {},
   "outputs": [
    {
     "name": "stdout",
     "output_type": "stream",
     "text": [
      "\n",
      "Resumen estadístico de las columnas numéricas:\n",
      "         Unnamed: 0             id        rating    rating_top  ratings_count  \\\n",
      "count  11701.000000   11701.000000  11701.000000  11701.000000   11701.000000   \n",
      "mean    5850.000000   98922.947611      3.112581      3.324075     130.903683   \n",
      "std     3377.932084  184055.373294      0.965981      1.256066     335.341189   \n",
      "min        0.000000       1.000000      0.000000      1.000000       3.000000   \n",
      "25%     2925.000000   11693.000000      2.610000      3.000000      13.000000   \n",
      "50%     5850.000000   19970.000000      3.290000      4.000000      33.000000   \n",
      "75%     8775.000000   52181.000000      3.820000      4.000000      95.000000   \n",
      "max    11700.000000  970321.000000      5.000000      5.000000    6729.000000   \n",
      "\n",
      "       reviews_text_count         added   metacritic      playtime  \\\n",
      "count        11701.000000  11701.000000  4786.000000  11701.000000   \n",
      "mean             0.993248    898.595163    74.310280      3.743270   \n",
      "std              3.098669   1511.097781    10.866303     12.723237   \n",
      "min              0.000000    105.000000    23.000000      0.000000   \n",
      "25%              0.000000    197.000000    68.000000      1.000000   \n",
      "50%              0.000000    374.000000    76.000000      2.000000   \n",
      "75%              1.000000    886.000000    82.000000      4.000000   \n",
      "max             76.000000  20542.000000    99.000000    900.000000   \n",
      "\n",
      "       suggestions_count  user_game  reviews_count  \n",
      "count       11701.000000        0.0   11701.000000  \n",
      "mean          365.671737        NaN     132.429023  \n",
      "std           175.282172        NaN     339.122710  \n",
      "min             0.000000        NaN       5.000000  \n",
      "25%           233.000000        NaN      13.000000  \n",
      "50%           359.000000        NaN      34.000000  \n",
      "75%           490.000000        NaN      96.000000  \n",
      "max          1686.000000        NaN    6829.000000  \n"
     ]
    }
   ],
   "source": [
    "print(\"\\nResumen estadístico de las columnas numéricas:\")\n",
    "print(df.describe())"
   ]
  },
  {
   "cell_type": "markdown",
   "id": "8e063695-40df-4fb9-8473-ac3b0c25a235",
   "metadata": {},
   "source": [
    "<h1>Conteo de valores únicos en algunas columnas</h1>"
   ]
  },
  {
   "cell_type": "code",
   "execution_count": 6,
   "id": "bd019f84-cff6-4c9d-8816-4bb898bf1993",
   "metadata": {},
   "outputs": [
    {
     "name": "stdout",
     "output_type": "stream",
     "text": [
      "\n",
      "Conteo de valores únicos en algunas columnas:\n",
      "Cantidad de juegos únicos: 11701\n",
      "Cantidad de géneros únicos: 1374\n",
      "Cantidad de tiendas únicas: 11088\n"
     ]
    }
   ],
   "source": [
    "print(\"\\nConteo de valores únicos en algunas columnas:\")\n",
    "print(\"Cantidad de juegos únicos:\", df[\"name\"].nunique())\n",
    "print(\"Cantidad de géneros únicos:\", df[\"genres\"].nunique())\n",
    "print(\"Cantidad de tiendas únicas:\", df[\"stores\"].nunique())"
   ]
  },
  {
   "cell_type": "markdown",
   "id": "a9ac99d5-d693-498d-b8e1-1ec024930053",
   "metadata": {},
   "source": [
    "<h1>  Visualizar una muestra aleatoria de los datos </h1>"
   ]
  },
  {
   "cell_type": "code",
   "execution_count": 7,
   "id": "97e71405-f804-4e6a-bb15-180e338b03b2",
   "metadata": {},
   "outputs": [
    {
     "name": "stdout",
     "output_type": "stream",
     "text": [
      "\n",
      "Muestra aleatoria de los datos:\n",
      "      Unnamed: 0      id                                      slug  \\\n",
      "5824        5824  894472                          project-playtime   \n",
      "8572        8572   45664  the-bards-tale-remastered-and-resnarkled   \n",
      "4448        4448    4195                   tekken-tag-tournament-2   \n",
      "9391        9391   35183                                    driv3r   \n",
      "2456        2456    2416                               pix-the-cat   \n",
      "\n",
      "                                            name    released    tba  \\\n",
      "5824                           PROJECT: PLAYTIME  2022-12-12  False   \n",
      "8572  The Bard's Tale: Remastered and Resnarkled  2017-08-17  False   \n",
      "4448                     Tekken Tag Tournament 2  2012-09-11  False   \n",
      "9391                                      Driv3r  2004-06-21  False   \n",
      "2456                                 Pix the Cat  2014-10-07  False   \n",
      "\n",
      "                                       background_image  rating  rating_top  \\\n",
      "5824  https://media.rawg.io/media/screenshots/c9f/c9...    2.67           3   \n",
      "8572  https://media.rawg.io/media/screenshots/6e5/6e...    3.17           3   \n",
      "4448  https://media.rawg.io/media/games/3ad/3adf409c...    4.05           4   \n",
      "9391  https://media.rawg.io/media/screenshots/ae8/ae...    3.16           3   \n",
      "2456  https://media.rawg.io/media/screenshots/4cc/4c...    2.63           3   \n",
      "\n",
      "                                                ratings  ...  user_game  \\\n",
      "5824  [{'id': 3, 'title': 'meh', 'count': 4, 'percen...  ...        NaN   \n",
      "8572  [{'id': 3, 'title': 'meh', 'count': 13, 'perce...  ...        NaN   \n",
      "4448  [{'id': 4, 'title': 'recommended', 'count': 83...  ...        NaN   \n",
      "9391  [{'id': 3, 'title': 'meh', 'count': 38, 'perce...  ...        NaN   \n",
      "2456  [{'id': 3, 'title': 'meh', 'count': 39, 'perce...  ...        NaN   \n",
      "\n",
      "      reviews_count                                          platforms  \\\n",
      "5824              9  [{'platform': {'id': 4, 'name': 'PC', 'slug': ...   \n",
      "8572             24  [{'platform': {'id': 1, 'name': 'Xbox One', 's...   \n",
      "4448            133  [{'platform': {'id': 16, 'name': 'PlayStation ...   \n",
      "9391             88  [{'platform': {'id': 80, 'name': 'Xbox', 'slug...   \n",
      "2456             92  [{'platform': {'id': 19, 'name': 'PS Vita', 's...   \n",
      "\n",
      "                                       parent_platforms  \\\n",
      "5824  [{'platform': {'id': 1, 'name': 'PC', 'slug': ...   \n",
      "8572  [{'platform': {'id': 1, 'name': 'PC', 'slug': ...   \n",
      "4448  [{'platform': {'id': 2, 'name': 'PlayStation',...   \n",
      "9391  [{'platform': {'id': 1, 'name': 'PC', 'slug': ...   \n",
      "2456  [{'platform': {'id': 1, 'name': 'PC', 'slug': ...   \n",
      "\n",
      "                                                 genres  \\\n",
      "5824  [{'id': 4, 'name': 'Action', 'slug': 'action',...   \n",
      "8572  [{'id': 5, 'name': 'RPG', 'slug': 'role-playin...   \n",
      "4448  [{'id': 11, 'name': 'Arcade', 'slug': 'arcade'...   \n",
      "9391  [{'id': 4, 'name': 'Action', 'slug': 'action',...   \n",
      "2456  [{'id': 4, 'name': 'Action', 'slug': 'action',...   \n",
      "\n",
      "                                                 stores  \\\n",
      "5824  [{'id': 892488, 'store': {'id': 1, 'name': 'St...   \n",
      "8572  [{'id': 37424, 'store': {'id': 3, 'name': 'Pla...   \n",
      "4448  [{'id': 4521, 'store': {'id': 3, 'name': 'Play...   \n",
      "9391                                                 []   \n",
      "2456  [{'id': 3845, 'store': {'id': 3, 'name': 'Play...   \n",
      "\n",
      "                                                   tags  \\\n",
      "5824  [{'id': 7, 'name': 'Multiplayer', 'slug': 'mul...   \n",
      "8572  [{'id': 413, 'name': 'online', 'slug': 'online...   \n",
      "4448  [{'id': 413, 'name': 'online', 'slug': 'online...   \n",
      "9391  [{'id': 31, 'name': 'Singleplayer', 'slug': 's...   \n",
      "2456  [{'id': 31, 'name': 'Singleplayer', 'slug': 's...   \n",
      "\n",
      "                                            esrb_rating  \\\n",
      "5824                                                NaN   \n",
      "8572          {'id': 3, 'name': 'Teen', 'slug': 'teen'}   \n",
      "4448          {'id': 3, 'name': 'Teen', 'slug': 'teen'}   \n",
      "9391      {'id': 4, 'name': 'Mature', 'slug': 'mature'}   \n",
      "2456  {'id': 1, 'name': 'Everyone', 'slug': 'everyone'}   \n",
      "\n",
      "                                      short_screenshots   genre  \n",
      "5824  [{'id': -1, 'image': 'https://media.rawg.io/me...  Action  \n",
      "8572  [{'id': -1, 'image': 'https://media.rawg.io/me...     RPG  \n",
      "4448  [{'id': -1, 'image': 'https://media.rawg.io/me...  Arcade  \n",
      "9391  [{'id': -1, 'image': 'https://media.rawg.io/me...  Action  \n",
      "2456  [{'id': -1, 'image': 'https://media.rawg.io/me...  Action  \n",
      "\n",
      "[5 rows x 28 columns]\n"
     ]
    }
   ],
   "source": [
    "print(\"\\nMuestra aleatoria de los datos:\")\n",
    "print(df.sample(5))"
   ]
  },
  {
   "cell_type": "markdown",
   "id": "c22dfd91-e3d2-412d-9191-ce6790affeb0",
   "metadata": {},
   "source": [
    "<h1> Verificar si hay valores nulos en el DataFrame </h1>"
   ]
  },
  {
   "cell_type": "code",
   "execution_count": 8,
   "id": "6e3e4725-b404-421a-a3ee-481f0189055a",
   "metadata": {},
   "outputs": [
    {
     "name": "stdout",
     "output_type": "stream",
     "text": [
      "\n",
      "Valores nulos en el DataFrame:\n",
      "Unnamed: 0                0\n",
      "id                        0\n",
      "slug                      0\n",
      "name                      0\n",
      "released                169\n",
      "tba                       0\n",
      "background_image         23\n",
      "rating                    0\n",
      "rating_top                0\n",
      "ratings                   0\n",
      "ratings_count             0\n",
      "reviews_text_count        0\n",
      "added                     0\n",
      "added_by_status           0\n",
      "metacritic             6915\n",
      "playtime                  0\n",
      "suggestions_count         0\n",
      "updated                   0\n",
      "user_game             11701\n",
      "reviews_count             0\n",
      "platforms                 0\n",
      "parent_platforms          0\n",
      "genres                    0\n",
      "stores                    0\n",
      "tags                      0\n",
      "esrb_rating            6623\n",
      "short_screenshots         0\n",
      "genre                     0\n",
      "dtype: int64\n"
     ]
    }
   ],
   "source": [
    "print(\"\\nValores nulos en el DataFrame:\")\n",
    "print(df.isnull().sum())"
   ]
  },
  {
   "cell_type": "markdown",
   "id": "94f61c91-2715-4327-8b39-f7d7e09433ed",
   "metadata": {},
   "source": [
    "<h1> Seleccionar solo algunas columnas para un análisis más detallado </h1>"
   ]
  },
  {
   "cell_type": "code",
   "execution_count": null,
   "id": "bd997822-e119-473f-937d-f5d9c454576a",
   "metadata": {},
   "outputs": [],
   "source": [
    "name_rating = df[[\"name\", \"rating\", \"metacritic\", \"released\", \"ratings\", \"genres\", \"stores\"]]\n",
    "print(\"\\nSelección de columnas para un análisis detallado:\")\n",
    "print(name_rating.head(5))"
   ]
  },
  {
   "cell_type": "markdown",
   "id": "867c6462-cdd9-4ce6-985e-bc2c5cf0a25c",
   "metadata": {},
   "source": [
    "<h1> Obtener los nombres de las columnas </h1>"
   ]
  },
  {
   "cell_type": "code",
   "execution_count": null,
   "id": "3e967911-6075-4aa1-be67-9dcc2b1816ae",
   "metadata": {},
   "outputs": [],
   "source": [
    "nombres_columnas = df.columns\n",
    "print(nombres_columnas)"
   ]
  },
  {
   "cell_type": "markdown",
   "id": "ef84ae89-b057-4d7b-b7ea-6538adbcb4f7",
   "metadata": {},
   "source": [
    "<h1> ver columns del dataframe </h1>"
   ]
  },
  {
   "cell_type": "code",
   "execution_count": null,
   "id": "ca208ec9-0891-4862-adbb-7665074962ba",
   "metadata": {},
   "outputs": [],
   "source": [
    "print(df.columns)"
   ]
  },
  {
   "cell_type": "markdown",
   "id": "38b04760-433a-46d8-8fa7-50b35e226995",
   "metadata": {},
   "source": [
    "<h1>KPI´S</h1>"
   ]
  },
  {
   "cell_type": "code",
   "execution_count": null,
   "id": "d2ed726b-86d2-4718-80f9-aed6f8786704",
   "metadata": {},
   "outputs": [],
   "source": [
    "# Calcular el promedio de calificaciones por género\n",
    "promedio_por_genero = df.groupby('genre')['rating'].mean().sort_values()\n",
    "\n",
    "# Crear el gráfico de barras\n",
    "plt.figure(figsize=(10, 6))\n",
    "promedio_por_genero.plot(kind='barh', color='skyblue')\n",
    "plt.xlabel('Promedio de Calificación')\n",
    "plt.ylabel('Género')\n",
    "plt.title('Promedio de Calificación por Género')\n",
    "plt.grid(axis='x')\n",
    "\n",
    "# Agregar etiquetas en las barras\n",
    "for index, value in enumerate(promedio_por_genero):\n",
    "    plt.text(value, index, f'{value:.2f}')\n",
    "\n",
    "plt.show()"
   ]
  },
  {
   "cell_type": "markdown",
   "id": "88e68ee9-abd5-4786-92c8-fe4c9e431126",
   "metadata": {},
   "source": [
    "<h1>Promedio de Calificación de Juegos por Año: Tendencia Histórica</h1>"
   ]
  },
  {
   "cell_type": "code",
   "execution_count": null,
   "id": "61c2c191-103f-4b0f-9488-50b61b741287",
   "metadata": {},
   "outputs": [],
   "source": [
    "# Convertir la columna 'released' a tipo datetime y extraer el año\n",
    "df['released'] = pd.to_datetime(df['released'])\n",
    "df['year_released'] = df['released'].dt.year\n",
    "\n",
    "# Calcular el promedio de calificación por año\n",
    "promedio_calificacion_por_año = df.groupby('year_released')['rating'].mean()\n",
    "\n",
    "# Crear el gráfico de línea\n",
    "plt.figure(figsize=(10, 6))\n",
    "promedio_calificacion_por_año.plot(marker='o', color='blue', linestyle='-')\n",
    "plt.xlabel('Año de Lanzamiento')\n",
    "plt.ylabel('Promedio de Calificación')\n",
    "plt.title('Promedio de Calificación de Juegos por Año')\n",
    "plt.grid(True)\n",
    "\n",
    "# Agregar etiquetas a los puntos de datos\n",
    "for x, y in zip(promedio_calificacion_por_año.index, promedio_calificacion_por_año.values):\n",
    "    plt.text(x, y, f'{y:.2f}', ha='right', va='bottom')\n",
    "plt.show()\n",
    "    \n",
    "    \n"
   ]
  },
  {
   "cell_type": "markdown",
   "id": "ebaba08e-7da5-41c5-b221-9dacb2f9b369",
   "metadata": {},
   "source": [
    "<h1> GRAFICAS </h1>\n",
    "<h1> Distribución de Calificaciones por Género </h1> \n"
   ]
  },
  {
   "cell_type": "code",
   "execution_count": null,
   "id": "78716c79-d2a4-44f7-91fa-f408783d042f",
   "metadata": {},
   "outputs": [],
   "source": [
    "plt.figure(figsize=(10, 6))\n",
    "df_grouped = df.groupby('genre')['rating'].mean().reset_index()\n",
    "plt.bar(df_grouped['genre'], df_grouped['rating'])\n",
    "plt.xlabel('Género')\n",
    "plt.ylabel('Promedio de Calificación')\n",
    "plt.title('Promedio de Calificación por Género de Juegos')\n",
    "plt.xticks(rotation=45)\n",
    "plt.show()"
   ]
  },
  {
   "cell_type": "markdown",
   "id": "6081f228-bff8-4e7f-bd06-56017df8d264",
   "metadata": {},
   "source": [
    "<h1>Grafica de juegos lanzados por año</h1>"
   ]
  },
  {
   "cell_type": "code",
   "execution_count": null,
   "id": "552d0676-b144-4dba-8eb2-b7e8c7d66c9a",
   "metadata": {},
   "outputs": [],
   "source": [
    "# Obtener el año de lanzamiento de cada juego\n",
    "df['year_released'] = pd.to_datetime(df['released']).dt.year\n",
    "\n",
    "# Calcular el número de juegos lanzados por año\n",
    "juegos_por_año = df['year_released'].value_counts().sort_index()\n",
    "\n",
    "# Crear el gráfico de barras\n",
    "plt.figure(figsize=(10, 6))\n",
    "juegos_por_año.plot(kind='bar', color='lightgreen')\n",
    "plt.xlabel('Año de Lanzamiento')\n",
    "plt.ylabel('Número de Juegos')\n",
    "plt.title('Número de Juegos Lanzados por Año')\n",
    "plt.grid(axis='y')\n",
    "plt.show()"
   ]
  }
 ],
 "metadata": {
  "kernelspec": {
   "display_name": "Python 3 (ipykernel)",
   "language": "python",
   "name": "python3"
  },
  "language_info": {
   "codemirror_mode": {
    "name": "ipython",
    "version": 3
   },
   "file_extension": ".py",
   "mimetype": "text/x-python",
   "name": "python",
   "nbconvert_exporter": "python",
   "pygments_lexer": "ipython3",
   "version": "3.12.1"
  }
 },
 "nbformat": 4,
 "nbformat_minor": 5
}
